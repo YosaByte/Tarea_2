{
 "cells": [
  {
   "cell_type": "markdown",
   "id": "6c391813",
   "metadata": {},
   "source": [
    "## Josafat Choque Matínez \n",
    "## Ing. Civil Eléctrica"
   ]
  },
  {
   "cell_type": "markdown",
   "id": "a44f7aec",
   "metadata": {},
   "source": [
    "# Solución parte (1), ejecutada una vez"
   ]
  },
  {
   "cell_type": "code",
   "execution_count": 1,
   "id": "c14bd21c",
   "metadata": {},
   "outputs": [],
   "source": [
    "from numpy import * "
   ]
  },
  {
   "cell_type": "code",
   "execution_count": 4,
   "id": "e53a2b53",
   "metadata": {},
   "outputs": [
    {
     "name": "stdout",
     "output_type": "stream",
     "text": [
      "Salario mensual:\t \t \t \t \t $ 410000.\n",
      "Porcentaje a ahorrar del salario mensual (decimal): \t 0.25\n",
      "Costo del auto soñado: \t \t \t \t \t $ 24970000\n",
      " -------0-------\n",
      "Número de meses que debo ahorrar:\t \t \t 49.\n"
     ]
    }
   ],
   "source": [
    "def meses_ahorro(salario_mesual,proporción_ahorrada,costo_auto):\n",
    "    #Se definen y acortan algunas variables\n",
    "    ki=salario_mesual\n",
    "    pa=proporción_ahorrada\n",
    "    ca=costo_auto\n",
    "    text_1=\"Salario mensual:\\t \\t \\t \\t \\t $ {}\"\n",
    "    text_2=\"\\nPorcentaje a ahorrar del salario mensual (decimal): \\t {}\"\n",
    "    text_3=\"\\nCosto del auto soñado: \\t \\t \\t \\t \\t $ {}\"\n",
    "    \n",
    "    #Se inicializan varaibles\n",
    "    ah=0\n",
    "    ppi=0.2*ca  #Proporcion pago inicial\n",
    "    n_mes=0 #variable del número de meses que se deben ahorrar\n",
    "    \n",
    "    while ah<ppi:\n",
    "                ah=ah+ki*pa\n",
    "                n_mes+=1\n",
    "        \n",
    "    text_4=\"\\n -------0-------\\nNúmero de meses que debo ahorrar:\\t \\t \\t {}.\"\n",
    "    print(text_1.format(ki)+text_2.format(pa)+text_3.format(ca)+text_4.format(n_mes))\n",
    "\n",
    "## Se ejecuta una vez\n",
    "meses_ahorro(410000,0.25,24970000) #Con salario mínimo y camioneta Nissan Np300\n",
    "            \n",
    "    \n",
    "    "
   ]
  },
  {
   "cell_type": "markdown",
   "id": "e5b2d867",
   "metadata": {},
   "source": [
    "# Solución parte (2), ejecutada una vez"
   ]
  },
  {
   "cell_type": "code",
   "execution_count": 9,
   "id": "f8b3166a",
   "metadata": {},
   "outputs": [
    {
     "name": "stdout",
     "output_type": "stream",
     "text": [
      "Salario mensual:\t \t \t \t \t $ 1200000.\n",
      "Porcentaje a ahorrar del salario mensual (decimal): \t 0.5\n",
      "Costo del auto soñado: \t \t \t \t \t $ 42000000\n",
      " -------0-------\n",
      "Número de meses que debo ahorrar:\t \t \t 10.\n"
     ]
    }
   ],
   "source": [
    "def ahorro_auto_inv(salario_mesual,proporción_ahorrada,costo_auto):\n",
    "    #Se definen y acortan algunas variables\n",
    "    ki=salario_mesual\n",
    "    pa=proporción_ahorrada\n",
    "    ca=costo_auto\n",
    "    text_1=\"Salario mensual:\\t \\t \\t \\t \\t $ {}\"\n",
    "    text_2=\"\\nPorcentaje a ahorrar del salario mensual (decimal): \\t {}\"\n",
    "    text_3=\"\\nCosto del auto soñado: \\t \\t \\t \\t \\t $ {}\"\n",
    "    \n",
    "    #Se inicializan varaibles\n",
    "    i=0\n",
    "    ah=[0]\n",
    "    ppi=0.2*ca\n",
    "    n_mes=0\n",
    "    r=0.1\n",
    "    ah_n=0\n",
    "    while ah[i]<ppi:\n",
    "            if n_mes==0: # Mes sin ahorro (sueldo a fin de mes)\n",
    "                ah_n=ah[i]+ki*pa #Se escoge el uso de listas, ya que, de esta forma se puede\n",
    "                ah=ah + [ah_n]   #recorrer la lista y verificar que el desarrollo de los cáculos\n",
    "                n_mes+=1         #esté bien realizado\n",
    "            else:        # Meses con ahorro, aumento del 10%\n",
    "                ah_n=ah[i]+ki*pa+ah[i]*r\n",
    "                ah=ah+[ah_n]\n",
    "                n_mes+=1\n",
    "            i+=1\n",
    "    text_4=\"\\n -------0-------\\nNúmero de meses que debo ahorrar:\\t \\t \\t {}.\"\n",
    "    print(text_1.format(ki)+text_2.format(pa)+text_3.format(ca)+text_4.format(n_mes))\n",
    "\n",
    "## Se ejecuta una vez\n",
    "ahorro_auto_inv(1200000,0.5,42000000) #Salario primedio de Ing. Civil Electricista y tesla model 3"
   ]
  },
  {
   "cell_type": "markdown",
   "id": "0206f7a2",
   "metadata": {},
   "source": [
    "# Solución parte (3), ejecutada una vez"
   ]
  },
  {
   "cell_type": "code",
   "execution_count": 10,
   "id": "c61af87e",
   "metadata": {},
   "outputs": [
    {
     "name": "stdout",
     "output_type": "stream",
     "text": [
      "Salario mensual:\t \t \t \t \t $ 1800000.0.\n",
      "Porcentaje a ahorrar del salario mensual (decimal): \t 0.2\n",
      "Costo del auto soñado: \t \t \t \t \t $ 10000000\n",
      " -------0-------\n",
      "Número de meses que debo ahorrar:\t \t \t 7.\n"
     ]
    }
   ],
   "source": [
    "def ahorro_auto_aum(salario_mesual,proporción_ahorrada,costo_auto,proporcion_aumento_salario):\n",
    "    #Se definen y acortan algunas variables\n",
    "    ki=salario_mesual\n",
    "    ki_0=salario_mesual\n",
    "    pa=proporción_ahorrada\n",
    "    ca=costo_auto\n",
    "    pas=proporcion_aumento_salario\n",
    "    text_1=\"Salario mensual:\\t \\t \\t \\t \\t $ {}\"\n",
    "    text_2=\"\\nPorcentaje a ahorrar del salario mensual (decimal): \\t {}\"\n",
    "    text_3=\"\\nCosto del auto soñado: \\t \\t \\t \\t \\t $ {}\"\n",
    "    \n",
    "    #Se inicializan varaibles\n",
    "    ah=[0]\n",
    "    ppi=0.2*ca\n",
    "    n_mes=0 \n",
    "    r=0.1\n",
    "    ah_n=0\n",
    "    i=0\n",
    "    while ah[i]<ppi:\n",
    "            if n_mes==0: # Mes sin ahorro\n",
    "                ah_n=ah[i]+ki*pa\n",
    "                ah=ah+[ah_n]\n",
    "                n_mes+=1\n",
    "            else:        # Meses con ahorro, aumento del 10%\n",
    "                ah_n=ah[i]+ki*pa+ah[i]*r\n",
    "                ah=ah+[ah_n]\n",
    "                n_mes+=1\n",
    "                if n_mes%6==0: #Cuando se cumple un mes con múltiplo de 6, entonces se aumenta el sueldo\n",
    "                    ki+=ki*pas\n",
    "            i+=1\n",
    "                    \n",
    "        \n",
    "    text_4=\"\\n -------0-------\\nNúmero de meses que debo ahorrar:\\t \\t \\t {}.\"\n",
    "    print(text_1.format(ki)+text_2.format(pa)+text_3.format(ca)+text_4.format(n_mes))\n",
    "\n",
    "## Se ejecuta una vez\n",
    "ahorro_auto_aum(1200000,0.2,10000000,0.5) #Aumetando sueldo, con mayor edad el 1961 Volkswagen Escarabajo "
   ]
  }
 ],
 "metadata": {
  "kernelspec": {
   "display_name": "Python 3 (ipykernel)",
   "language": "python",
   "name": "python3"
  },
  "language_info": {
   "codemirror_mode": {
    "name": "ipython",
    "version": 3
   },
   "file_extension": ".py",
   "mimetype": "text/x-python",
   "name": "python",
   "nbconvert_exporter": "python",
   "pygments_lexer": "ipython3",
   "version": "3.10.9"
  }
 },
 "nbformat": 4,
 "nbformat_minor": 5
}
