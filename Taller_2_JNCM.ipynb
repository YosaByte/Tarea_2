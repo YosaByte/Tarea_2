{
 "cells": [
  {
   "cell_type": "markdown",
   "id": "6c391813",
   "metadata": {},
   "source": [
    "## Josafat Choque Matínez \n",
    "## Ing. Civil Eléctrica"
   ]
  },
  {
   "cell_type": "markdown",
   "id": "a44f7aec",
   "metadata": {},
   "source": [
    "# Solution part (1) and executed once"
   ]
  },
  {
   "cell_type": "code",
   "execution_count": 3,
   "id": "c14bd21c",
   "metadata": {},
   "outputs": [],
   "source": [
    "from numpy import * "
   ]
  },
  {
   "cell_type": "code",
   "execution_count": 46,
   "id": "e53a2b53",
   "metadata": {},
   "outputs": [
    {
     "name": "stdout",
     "output_type": "stream",
     "text": [
      "Salario mensual:\t \t \t $ 1800000.\n",
      "Porcentaje a ahorrar:\t \t \t 10.0%\n",
      "Costo del auto soñado: \t \t \t $ 20000000\n",
      " -------0-------\n",
      "Número de meses que debo ahorrar:\t 23.\n"
     ]
    }
   ],
   "source": [
    "def meses_ahorro(salario_mesual,proporción_ahorrada,costo_auto):\n",
    "    #Se definen y acortan algunas variables\n",
    "    ki=salario_mesual\n",
    "    pa=proporción_ahorrada\n",
    "    ca=costo_auto\n",
    "    text_1=\"Salario mensual:\\t \\t \\t $ {}.\"\n",
    "    text_2=\"\\nPorcentaje a ahorrar:\\t \\t \\t {}%\"\n",
    "    text_3=\"\\nCosto del auto soñado: \\t \\t \\t $ {}\"\n",
    "    \n",
    "    #Se inicializan varaibles\n",
    "    ah=0\n",
    "    ppi=0.2*ca\n",
    "    n_mes=0\n",
    "    if ki==ppi:\n",
    "        text_4=\"Podrías pagar el pie del auto con tu sueldo ahora mismo\"\n",
    "        \n",
    "    else: \n",
    "        while ah<ppi:\n",
    "                ah=ah+ki*pa\n",
    "                n_mes+=1\n",
    "        \n",
    "        text_4=\"\\n -------0-------\\nNúmero de meses que debo ahorrar:\\t {}.\"\n",
    "    print(text_1.format(ki)+text_2.format(pa*100)+text_3.format(ca)+text_4.format(n_mes))\n",
    "\n",
    "## Se ejecuta una vez\n",
    "meses_ahorro(1800000,0.1,20000000)\n",
    "            \n",
    "    \n",
    "    "
   ]
  },
  {
   "cell_type": "code",
   "execution_count": 20,
   "id": "0914f3f6",
   "metadata": {},
   "outputs": [
    {
     "name": "stdout",
     "output_type": "stream",
     "text": [
      "X es igual a 10\n"
     ]
    },
    {
     "data": {
      "text/plain": [
       "'X es igual a 10X es igual a {}'"
      ]
     },
     "execution_count": 20,
     "metadata": {},
     "output_type": "execute_result"
    }
   ],
   "source": []
  },
  {
   "cell_type": "markdown",
   "id": "e5b2d867",
   "metadata": {},
   "source": [
    "# Solution part (2) and executed once"
   ]
  },
  {
   "cell_type": "code",
   "execution_count": 47,
   "id": "f8b3166a",
   "metadata": {},
   "outputs": [
    {
     "name": "stdout",
     "output_type": "stream",
     "text": [
      "0 0\n",
      "180000.0 1\n",
      "378000.0 2\n",
      "595800.0 3\n",
      "835380.0 4\n",
      "1098918.0 5\n",
      "1388809.8 6\n",
      "1707690.78 7\n",
      "2058459.858 8\n",
      "2444305.8438 9\n",
      "2868736.42818 10\n",
      "3335610.070998 11\n",
      "3849171.0780978 12\n",
      "Salario mensual:\t $ 1800000.\n",
      "Porcentaje a ahorrar:\t 10.0%\n",
      "Costo del auto soñado: \t $ 20000000\n",
      " -------0-------\n",
      "Número de meses que debo ahorrar:\t 13.\n"
     ]
    }
   ],
   "source": [
    "def ahorro_auto_inv(salario_mesual,proporción_ahorrada,costo_auto):\n",
    "    #Se definen y acortan algunas variables\n",
    "    ki=salario_mesual\n",
    "    pa=proporción_ahorrada\n",
    "    ca=costo_auto\n",
    "    text_1=\"Salario mensual:\\t $ {}.\"\n",
    "    text_2=\"\\nPorcentaje a ahorrar:\\t {}%\"\n",
    "    text_3=\"\\nCosto del auto soñado: \\t $ {}\"\n",
    "    \n",
    "    #Se inicializan varaibles\n",
    "    i=0\n",
    "    ah=[0]\n",
    "    ppi=0.2*ca\n",
    "    n_mes=0\n",
    "    r=0.1\n",
    "    ah_n=0\n",
    "    if ki==ppi:\n",
    "        text_4=\"Podrías pagar el pie del auto con tu sueldo ahora mismo\"\n",
    "        \n",
    "    else: \n",
    "        while ah[i]<ppi:\n",
    "            print(ah[i],n_mes)\n",
    "            if n_mes==0: # Mes sin ahorro\n",
    "                ah_n=ah[i]+ki*pa\n",
    "                ah=ah + [ah_n]\n",
    "                n_mes+=1\n",
    "            else:        # Meses con ahorro, aumento del 10%\n",
    "                ah_n=ah[i]+ki*pa+ah[i]*r\n",
    "                ah=ah+[ah_n]\n",
    "                n_mes+=1\n",
    "            i+=1\n",
    "        text_4=\"\\n -------0-------\\nNúmero de meses que debo ahorrar:\\t {}.\"\n",
    "    print(text_1.format(ki)+text_2.format(pa*100)+text_3.format(ca)+text_4.format(n_mes))\n",
    "\n",
    "## Se ejecuta una vez\n",
    "ahorro_auto_inv(1800000,0.1,20000000)"
   ]
  },
  {
   "cell_type": "code",
   "execution_count": 23,
   "id": "c7bb7418",
   "metadata": {},
   "outputs": [
    {
     "name": "stdout",
     "output_type": "stream",
     "text": [
      "1 0\n"
     ]
    }
   ],
   "source": [
    "x=[0,1,2]\n",
    "x=x+[0.2*3]\n",
    "x\n",
    "print(x[1],x[0])"
   ]
  },
  {
   "cell_type": "markdown",
   "id": "0206f7a2",
   "metadata": {},
   "source": [
    "# Solution part (3) and executed once"
   ]
  },
  {
   "cell_type": "code",
   "execution_count": 64,
   "id": "c61af87e",
   "metadata": {},
   "outputs": [
    {
     "name": "stdout",
     "output_type": "stream",
     "text": [
      "0 0\n",
      "180000.0 1\n",
      "378000.0 2\n",
      "595800.0 3\n",
      "835380.0 4\n",
      "1098918.0 5\n",
      "1388809.8 6\n",
      "1527690.78 7\n",
      "1680459.858 8\n",
      "1848505.8438 9\n",
      "Salario mensual:\t $ 1800000.\n",
      "Porcentaje a ahorrar:\t 10.0%.\n",
      "Costo del auto soñado: \t $ 10000000.\n",
      " -------0-------\n",
      "Número de meses que debo ahorrar:\t 10.\n"
     ]
    }
   ],
   "source": [
    "def ahorro_auto_aum(salario_mesual,proporción_ahorrada,costo_auto,proporcion_aumento_salario):\n",
    "    #Se definen y acortan algunas variables\n",
    "    ki=salario_mesual\n",
    "    ki_0=salario_mesual\n",
    "    pa=proporción_ahorrada\n",
    "    ca=costo_auto\n",
    "    pas=proporcion_aumento_salario\n",
    "    text_1=\"Salario mensual:\\t $ {}.\"\n",
    "    text_2=\"\\nPorcentaje a ahorrar:\\t {}%.\"\n",
    "    text_3=\"\\nCosto del auto soñado: \\t $ {}.\"\n",
    "    \n",
    "    #Se inicializan varaibles\n",
    "    ah=[0]\n",
    "    ppi=0.2*ca\n",
    "    n_mes=0\n",
    "    r=0.1\n",
    "    ah_n=0\n",
    "    i=0\n",
    "    if ki==ppi:\n",
    "        text_4=\"Podrías pagar el pie del auto con tu sueldo ahora mismo\"\n",
    "        \n",
    "    else: \n",
    "        while ah[i]<ppi:\n",
    "            print(ah[i],n_mes)\n",
    "            if n_mes==0: # Mes sin ahorro\n",
    "                ah_n=ah[i]+ki*pa\n",
    "                ah=ah+[ah_n]\n",
    "                n_mes+=1\n",
    "            else:        # Meses con ahorro, aumento del 10%\n",
    "                ah_n=ah[i]+ki*pa+ah[i]*r\n",
    "                ah=ah+[ah_n]\n",
    "                n_mes+=1\n",
    "                if n_mes%6==0:\n",
    "                    ki+=ki*pas\n",
    "            i+=1\n",
    "                    \n",
    "        \n",
    "        text_4=\"\\n -------0-------\\nNúmero de meses que debo ahorrar:\\t {}.\"\n",
    "    print(text_1.format(ki_0)+text_2.format(pa*100)+text_3.format(ca)+text_4.format(n_mes))\n",
    "\n",
    "## Se ejecuta una vez\n",
    "ahorro_auto_aum(1800000,0.1,10000000,-1)"
   ]
  },
  {
   "cell_type": "code",
   "execution_count": 53,
   "id": "e32578e5",
   "metadata": {},
   "outputs": [
    {
     "data": {
      "text/plain": [
       "15.0"
      ]
     },
     "execution_count": 53,
     "metadata": {},
     "output_type": "execute_result"
    }
   ],
   "source": [
    "x=10\n",
    "x+=x*0.5\n",
    "x"
   ]
  }
 ],
 "metadata": {
  "kernelspec": {
   "display_name": "Python 3 (ipykernel)",
   "language": "python",
   "name": "python3"
  },
  "language_info": {
   "codemirror_mode": {
    "name": "ipython",
    "version": 3
   },
   "file_extension": ".py",
   "mimetype": "text/x-python",
   "name": "python",
   "nbconvert_exporter": "python",
   "pygments_lexer": "ipython3",
   "version": "3.10.9"
  }
 },
 "nbformat": 4,
 "nbformat_minor": 5
}
